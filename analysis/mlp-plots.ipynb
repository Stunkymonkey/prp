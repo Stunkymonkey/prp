{
 "cells": [
  {
   "cell_type": "code",
   "execution_count": null,
   "id": "lucky-departure",
   "metadata": {},
   "outputs": [],
   "source": [
    "from helper import *\n",
    "\n",
    "import pandas as pd\n",
    "import numpy as np\n",
    "import os\n",
    "import csv\n",
    "import sys\n",
    "import matplotlib\n",
    "import matplotlib.pyplot as plt\n",
    "plt.rcParams['figure.figsize'] = [8, 8]\n",
    "# use LaTeX fonts in the plot\n",
    "matplotlib.use(\"pgf\")\n",
    "matplotlib.rcParams.update({\n",
    "    \"pgf.texsystem\": \"pdflatex\",\n",
    "    'font.family': 'serif',\n",
    "    'text.usetex': True,\n",
    "    'pgf.rcfonts': False,\n",
    "})\n",
    "%matplotlib inline"
   ]
  },
  {
   "cell_type": "code",
   "execution_count": null,
   "id": "superb-debut",
   "metadata": {},
   "outputs": [],
   "source": [
    "EVAL_DIR = \"/home/felix/todo/algohol/single\"\n",
    "MLP_METHODS = [\"kmeans\", \"gonzalez\", \"merge\"]\n",
    "MLP_LEVELS = [[int(2 ** i)] for i in np.arange(9.0, 12.5, 1.0)]\n",
    "print(MLP_METHODS, \"with\", MLP_LEVELS)"
   ]
  },
  {
   "cell_type": "markdown",
   "id": "activated-springfield",
   "metadata": {},
   "source": [
    "# csv"
   ]
  },
  {
   "cell_type": "code",
   "execution_count": null,
   "id": "fifteen-lottery",
   "metadata": {},
   "outputs": [],
   "source": [
    "combinations = dict()\n",
    "for fmi_file in find_files_ending(\".fmi\", EVAL_DIR):\n",
    "    for method in MLP_METHODS:\n",
    "        for level in MLP_LEVELS:\n",
    "            combinations[(fmi_file, method, \"_\".join(map(str, level)))] = {\"fmi_file\": fmi_file, \"mlp_file\": fmi_file.replace(\".fmi\", \"\") + \"-\" + method + \"-\" + \"_\".join(map(str, level)) + \".mlp\"}"
   ]
  },
  {
   "cell_type": "code",
   "execution_count": null,
   "id": "beautiful-banking",
   "metadata": {},
   "outputs": [],
   "source": [
    "df = pd.DataFrame()\n",
    "for ((fmi_file, method, partitions), inputs) in combinations.items():\n",
    "    csv_file = inputs[\"mlp_file\"].replace(\".mlp\", \".csv\")\n",
    "    df_new = pd.read_csv(csv_file)\n",
    "    df_new.drop([\"lat\", \"lon\"], axis=1, inplace=True)\n",
    "    df_new[\"method\"] = method\n",
    "    df_new[\"partitions\"] = partitions\n",
    "    df = pd.concat([df, df_new]) #, ignore_index=True)"
   ]
  },
  {
   "cell_type": "code",
   "execution_count": null,
   "id": "peaceful-transition",
   "metadata": {},
   "outputs": [],
   "source": [
    "fig, ax = plt.subplots()\n",
    "# fig, ax = plt.subplots(figsize=(4, 3))\n",
    "\n",
    "for level in MLP_LEVELS:\n",
    "    x = list()\n",
    "    y = list()\n",
    "    for method in MLP_METHODS:\n",
    "        cut_size = sum(df[(df.method == method) & (df.partitions == \"_\".join(map(str, level)))]['highest_diff'].value_counts()[1:])\n",
    "        max_partition_size = max(df[(df.method == method) & (df.partitions == \"_\".join(map(str, level)))]['partition0'].value_counts())\n",
    "        x.append(max_partition_size)\n",
    "        y.append(cut_size)\n",
    "    # for making triangle\n",
    "    x.append(x[0])\n",
    "    y.append(y[0])\n",
    "    ax.plot(x, y, linestyle=\"dashed\", color=\"black\", alpha=0.3, zorder=0)\n",
    "for method in MLP_METHODS:\n",
    "    x = list()\n",
    "    y = list()\n",
    "    for level in MLP_LEVELS:\n",
    "        cut_size = sum(df[(df.method == method) & (df.partitions == \"_\".join(map(str, level)))]['highest_diff'].value_counts()[1:])\n",
    "        max_partition_size = max(df[(df.method == method) & (df.partitions == \"_\".join(map(str, level)))]['partition0'].value_counts())\n",
    "        x.append(max_partition_size)\n",
    "        y.append(cut_size)\n",
    "    ax.scatter(x, y, color=plot_get(method), label=mlp_title(method), zorder=999)\n",
    "\n",
    "ax.set_xlabel(\"Maximum partition size\")\n",
    "ax.set_ylabel(\"Boundary nodes\")\n",
    "ax.legend(loc='upper right')\n",
    "fig.savefig(\"mlp-cut_size.pgf\", bbox_inches=\"tight\")"
   ]
  },
  {
   "cell_type": "code",
   "execution_count": null,
   "id": "former-engagement",
   "metadata": {},
   "outputs": [],
   "source": [
    "fig, ax = plt.subplots()\n",
    "\n",
    "for method in MLP_METHODS:\n",
    "    x = list()\n",
    "    y = list()\n",
    "    for level in MLP_LEVELS:\n",
    "        number_of_partitions = len(df[(df.method == method) & (df.partitions == \"_\".join(map(str, level)))]['partition0'].unique())\n",
    "        value_counts = df[(df.method == method) & (df.partitions == \"_\".join(map(str, level)))]['partition0'].value_counts()\n",
    "        x.append(number_of_partitions)\n",
    "        y.append(min(value_counts))\n",
    "    ax.plot(x, y, color=plot_get(method))\n",
    "    ax.scatter(x, y, color=plot_get(method), label=mlp_title(method))\n",
    "    \n",
    "ax.set_xlabel(\"Partitions\")\n",
    "ax.set_ylabel(\"Minimum partition size\")\n",
    "# ax.set_yscale('log')\n",
    "ax.legend(loc='upper right')\n",
    "# plt.ticklabel_format(style='sci', axis='y', scilimits=(0,0))\n",
    "fig.savefig(\"mlp-min_partition_size.pgf\", bbox_inches=\"tight\")"
   ]
  },
  {
   "cell_type": "code",
   "execution_count": null,
   "id": "growing-interest",
   "metadata": {},
   "outputs": [],
   "source": [
    "# fig, ax = plt.subplots(1, 1, figsize=set_pgf_size(TEXT_WIDTH * 0.45))\n",
    "fig, ax = plt.subplots()\n",
    "\n",
    "for method in MLP_METHODS:\n",
    "    x = list()\n",
    "    y = list()\n",
    "    for level in MLP_LEVELS:\n",
    "        number_of_partitions = len(df[(df.method == method) & (df.partitions == \"_\".join(map(str, level)))]['partition0'].unique())\n",
    "        value_counts = df[(df.method == method) & (df.partitions == \"_\".join(map(str, level)))]['partition0'].value_counts()\n",
    "        x.append(number_of_partitions)\n",
    "        y.append(max(value_counts))\n",
    "    ax.plot(x, y, color=plot_get(method))\n",
    "    ax.scatter(x, y, color=plot_get(method), label=mlp_title(method))\n",
    "    \n",
    "ax.set_xlabel(\"Partitions\")\n",
    "ax.set_ylabel(\"Maximum partition size\")\n",
    "# ax.set_yscale('log')\n",
    "ax.legend(loc='upper right')\n",
    "# plt.ticklabel_format(style='sci', axis='y', scilimits=(0,0))\n",
    "fig.savefig(\"mlp-max_partition_size.pgf\", bbox_inches=\"tight\")"
   ]
  },
  {
   "cell_type": "code",
   "execution_count": null,
   "id": "literary-operator",
   "metadata": {},
   "outputs": [],
   "source": [
    "# fig, ax = plt.subplots(1, 1, figsize=set_pgf_size(TEXT_WIDTH * 0.45))\n",
    "fig, ax = plt.subplots()\n",
    "\n",
    "for method in MLP_METHODS:\n",
    "    x = list()\n",
    "    y = list()\n",
    "    for level in MLP_LEVELS:\n",
    "        cut_size = sum(df[(df.method == method) & (df.partitions == \"_\".join(map(str, level)))]['highest_diff'].value_counts()[1:])\n",
    "        number_of_partitions = len(df[(df.method == method) & (df.partitions == \"_\".join(map(str, level)))]['partition0'].unique())\n",
    "        x.append(number_of_partitions)\n",
    "        y.append(cut_size)\n",
    "    ax.plot(x, y, color=plot_get(method))\n",
    "    ax.scatter(x, y, color=plot_get(method), label=mlp_title(method))\n",
    "    \n",
    "ax.set_xlabel(\"Partitions\")\n",
    "ax.set_ylabel(\"Border nodes\")\n",
    "ax.legend(loc='upper left')\n",
    "# plt.ticklabel_format(style='sci', axis='y', scilimits=(0,0))\n",
    "fig.savefig(\"mlp-partition_size.pgf\", bbox_inches=\"tight\")"
   ]
  },
  {
   "cell_type": "markdown",
   "id": "expired-guinea",
   "metadata": {},
   "source": [
    "# log"
   ]
  },
  {
   "cell_type": "code",
   "execution_count": null,
   "id": "compact-failure",
   "metadata": {},
   "outputs": [],
   "source": [
    "with open(EVAL_DIR + \"/log.json\") as file:\n",
    "    tmp = file.readlines()\n",
    "    log = pd.read_json(\" \".join(tmp), orient='index')"
   ]
  },
  {
   "cell_type": "code",
   "execution_count": null,
   "id": "interior-fellowship",
   "metadata": {},
   "outputs": [],
   "source": [
    "# create command string to not match against list\n",
    "log['command_string'] = log['command'].agg(lambda x: ' '.join(map(str, x)))"
   ]
  },
  {
   "cell_type": "code",
   "execution_count": null,
   "id": "homeless-bones",
   "metadata": {},
   "outputs": [],
   "source": [
    "fig, ax = plt.subplots()\n",
    "# fig, ax = plt.subplots(figsize=(4, 3))\n",
    "for method in MLP_METHODS:\n",
    "    x = list()\n",
    "    y = list()\n",
    "    for level in MLP_LEVELS:\n",
    "        lines = log[(log['command_string'].str.contains(\"mlp_\" + method)) & (log['command_string'].str.endswith(\" \" + \" \".join(map(str, level))))]\n",
    "        # ignore if not present\n",
    "        if lines.shape[0] == 0:\n",
    "            continue\n",
    "        # take last line of execution\n",
    "        line = lines.iloc[-1]\n",
    "        runtime = line['time'].replace(\" seconds\", \"\")\n",
    "        number_of_partitions = len(df[(df.method == method) & (df.partitions == \"_\".join(map(str, level)))]['partition0'].unique())\n",
    "        x.append(number_of_partitions)\n",
    "        y.append(float(runtime))\n",
    "    ax.plot(x, y, color=plot_get(method))\n",
    "    ax.scatter(x, y, color=plot_get(method), label=mlp_title(method))\n",
    "    \n",
    "ax.set_xlabel(\"Partitions\")\n",
    "ax.set_ylabel(\"Runtime [sec]\")\n",
    "ax.set_yscale('log')\n",
    "ax.legend(loc='center right')\n",
    "fig.savefig(\"mlp-runtime.pgf\", bbox_inches=\"tight\")"
   ]
  },
  {
   "cell_type": "code",
   "execution_count": null,
   "id": "accepted-confidence",
   "metadata": {},
   "outputs": [],
   "source": []
  }
 ],
 "metadata": {
  "kernelspec": {
   "display_name": "Python 3",
   "language": "python",
   "name": "python3"
  },
  "language_info": {
   "codemirror_mode": {
    "name": "ipython",
    "version": 3
   },
   "file_extension": ".py",
   "mimetype": "text/x-python",
   "name": "python",
   "nbconvert_exporter": "python",
   "pygments_lexer": "ipython3",
   "version": "3.8.11"
  }
 },
 "nbformat": 4,
 "nbformat_minor": 5
}
