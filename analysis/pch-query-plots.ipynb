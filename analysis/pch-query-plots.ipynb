{
 "cells": [
  {
   "cell_type": "code",
   "execution_count": null,
   "id": "early-resistance",
   "metadata": {},
   "outputs": [],
   "source": [
    "from helper import *\n",
    "\n",
    "import pandas as pd\n",
    "import numpy as np\n",
    "import os\n",
    "import csv\n",
    "import sys\n",
    "import matplotlib\n",
    "import matplotlib.pyplot as plt\n",
    "plt.rcParams['figure.figsize'] = [16, 8]\n",
    "# use LaTeX fonts in the plot\n",
    "matplotlib.use(\"pgf\")\n",
    "matplotlib.rcParams.update({\n",
    "    \"pgf.texsystem\": \"pdflatex\",\n",
    "    'font.family': 'serif',\n",
    "    'text.usetex': True,\n",
    "    'pgf.rcfonts': False,\n",
    "})\n",
    "%matplotlib inline"
   ]
  },
  {
   "cell_type": "code",
   "execution_count": null,
   "id": "favorite-variance",
   "metadata": {},
   "outputs": [],
   "source": [
    "EVAL_DIR = \"/home/felix/todo/algohol/single\"\n",
    "MLP_METHODS = [\"kmeans\", \"gonzalez\", \"merge\"]\n",
    "MLP_LEVELS = [[int(2 ** i)] for i in np.arange(9.0, 12.5, 1.0)]\n",
    "FAST_QUERY_METHODS = [\"pch\", \"pch-pch\"]\n",
    "QUERY_METHODS = [\"normal\"] + FAST_QUERY_METHODS\n",
    "AREAS = [\"baden-wuerttemberg\"]\n",
    "print(MLP_METHODS, \"with\", MLP_LEVELS)"
   ]
  },
  {
   "cell_type": "code",
   "execution_count": null,
   "id": "flush-nylon",
   "metadata": {},
   "outputs": [],
   "source": [
    "df_pch = pd.DataFrame()\n",
    "for area in AREAS:\n",
    "    for query in QUERY_METHODS:\n",
    "        if query == \"normal\" or query == \"bi\":\n",
    "            tmp = pd.read_json(EVAL_DIR + \"/\" + area + \"-\" + query + \"-time.json\")\n",
    "            tmp[\"Area\"] = area\n",
    "            tmp[\"Query\"] = query\n",
    "            df_pch = df_pch.append(tmp, ignore_index = True)\n",
    "        else:\n",
    "            for mlp in MLP_METHODS:\n",
    "                for partitions in MLP_LEVELS:\n",
    "                    tmp = pd.read_json(EVAL_DIR + \"/\" + area + \"-\" + mlp + \"-\" + \"_\".join(map(str, partitions)) + \"-\" + query + \"-time.json\")\n",
    "                    tmp[\"Area\"] = area\n",
    "                    tmp[\"Query\"] = query\n",
    "                    tmp[\"Mlp\"] = mlp\n",
    "                    tmp[\"Mlp_partitions\"] = \"_\".join(map(str, partitions))\n",
    "                    df_pch = df_pch.append(tmp, ignore_index = True)"
   ]
  },
  {
   "cell_type": "code",
   "execution_count": null,
   "id": "manufactured-measurement",
   "metadata": {},
   "outputs": [],
   "source": [
    "fig, ax = plt.subplots()\n",
    "for area in AREAS:\n",
    "    for query in FAST_QUERY_METHODS:\n",
    "        for mlp in MLP_METHODS:\n",
    "            x = list()\n",
    "            y = list()\n",
    "            for partitions in MLP_LEVELS:\n",
    "                tmp = df_pch[(df_pch.Area == area) & (df_pch.Query == query) & (df_pch.Mlp == mlp) & (df_pch.Mlp_partitions == \"_\".join(map(str, partitions)))]\n",
    "                df_pch_csv = pd.read_csv(EVAL_DIR + \"/\" + area + \"-\" + mlp + \"-\" + \"_\".join(map(str, partitions)) + \".csv\")\n",
    "                contracted_nodes = sum(df_pch_csv.highest_diff.value_counts().loc[1:])\n",
    "                percentage = 1 - (contracted_nodes / len(df_pch_csv))\n",
    "                x.append(percentage * 100)\n",
    "                y.append(ns_to_ms(tmp[\"time\"].mean()))\n",
    "            if \"pch-pch\" in query:\n",
    "                label = query.replace(\"pch-pch\", \"PCH\") + \" \\% of \" + mlp_title(mlp)\n",
    "            else:\n",
    "                label = query.upper() + \" MLP-\" + mlp_title(mlp)\n",
    "            plt.plot(x, y, marker=plot_get(query), color=plot_get(mlp), label=label, alpha=0.7)\n",
    "plt.xlabel(\"Percentage of contracted nodes\")\n",
    "plt.ylabel(\"Query time [ms]\")\n",
    "plt.legend(ncol=2, loc=(0.120, 1.02))\n",
    "fig.savefig(\"pch.pgf\", bbox_inches=\"tight\")"
   ]
  },
  {
   "cell_type": "code",
   "execution_count": null,
   "id": "worthy-conjunction",
   "metadata": {},
   "outputs": [],
   "source": [
    "fig, ax = plt.subplots()\n",
    "for area in AREAS:\n",
    "    for mlp in MLP_METHODS:\n",
    "        x = list()\n",
    "        y = list()\n",
    "        for partitions in MLP_LEVELS:\n",
    "            tmp = df_pch[(df_pch.Area == area) & (df_pch.Mlp == mlp) & (df_pch.Mlp_partitions == \"_\".join(map(str, partitions)))]\n",
    "            means = tmp.groupby(\"Query\")[\"time\"].mean()\n",
    "            df_pch_csv = pd.read_csv(EVAL_DIR + \"/\" + area + \"-\" + mlp + \"-\" + \"_\".join(map(str, partitions)) + \".csv\")\n",
    "            contracted_nodes = sum(df_pch_csv.highest_diff.value_counts().loc[1:])\n",
    "            percentage = 1 - (contracted_nodes / len(df_pch_csv))\n",
    "            x.append(percentage * 100)\n",
    "            y.append(ns_to_ms(means[\"pch\"] - means[\"pch-pch\"]))\n",
    "        plt.plot(x, y, color=plot_get(mlp), marker=\".\", label=mlp_title(mlp), alpha=0.7)\n",
    "plt.xlabel(\"Percentage of contracted nodes\")\n",
    "plt.ylabel(\"Difference of query time [ms]\")\n",
    "plt.legend(loc='lower left')\n",
    "fig.savefig(\"pch-diff.pgf\", bbox_inches=\"tight\")"
   ]
  },
  {
   "cell_type": "code",
   "execution_count": null,
   "id": "destroyed-survivor",
   "metadata": {},
   "outputs": [],
   "source": [
    "table = list()\n",
    "for area in AREAS:\n",
    "    dijkstra = df_pch[(df_pch.Query == \"normal\") & (df_pch.Area == area)][\"time\"].mean()\n",
    "    for mlp in MLP_METHODS:\n",
    "        for partitions in MLP_LEVELS:\n",
    "            line = dict()\n",
    "            for query in FAST_QUERY_METHODS:\n",
    "                tmp = df_pch[(df_pch.Area == area) & (df_pch.Query == query) & (df_pch.Mlp == mlp) & (df_pch.Mlp_partitions == \"_\".join(map(str, partitions)))]\n",
    "                df_pch_csv = pd.read_csv(EVAL_DIR + \"/\" + area + \"-\" + mlp + \"-\" + \"_\".join(map(str, partitions)) + \".csv\")\n",
    "                contracted_nodes = sum(df_pch_csv.highest_diff.value_counts().loc[1:])\n",
    "                percentage = (1 - (contracted_nodes / len(df_pch_csv))) * 100\n",
    "                current = {\"MLP\": mlp_title(mlp), \"Partitions\": \"_\".join(map(str, partitions)), \"Percentage\": \"{:0.2f} %\".format(percentage), query: ns_to_ms(tmp[\"time\"].mean()), query + \"-speedup\": dijkstra / tmp[\"time\"].mean()}\n",
    "                line = {** line, **current}\n",
    "            table.append(line)"
   ]
  },
  {
   "cell_type": "code",
   "execution_count": null,
   "id": "distant-liverpool",
   "metadata": {},
   "outputs": [],
   "source": [
    "df_table = pd.DataFrame(table)\n",
    "df_table = df_table.rename(columns={\"pch\": \"mlp pch [ms]\", \"pch-speedup\": \"mlp pch speedup\", \"pch-pch\": \"pch [ms]\", \"pch-pch-speedup\": \"pch speedup\"})\n",
    "df_table = df_table.rename(columns={\"Percentage\": \"contracted\"})\n",
    "assert((df_table.groupby([\"MLP\", \"Partitions\", \"contracted\"]).count().all() == 1).iloc[0])\n",
    "df_table = df_table.groupby([\"MLP\", \"Partitions\", \"contracted\"], sort = False).first()\n",
    "latex = df_table.to_latex(float_format=\"{:0.2f}\".format)\n",
    "df_table"
   ]
  },
  {
   "cell_type": "code",
   "execution_count": null,
   "id": "subjective-zimbabwe",
   "metadata": {},
   "outputs": [],
   "source": [
    "# fixup ugly latex code to have single line header\n",
    "latex_list = latex.splitlines()\n",
    "\n",
    "latex_list[0] = latex_list[0].replace('lllrrrr', 'lll|rr|rr', 1)\n",
    "\n",
    "columns = latex_list[2].split(\"&\")\n",
    "indices = latex_list[3].split(\"&\")\n",
    "\n",
    "latex_list[2] = \"& & & \\multicolumn{2}{c|}{with MLP} & \\multicolumn{2}{c}{no MLP}  \\\\\\\\\"\n",
    "latex_list[3] = \"&\".join(indices[:3] + columns[3:])\n",
    "latex_list[3] = latex_list[3].replace(\"mlp\", \"\").replace(\"pch\", \"\").replace(\"[ms]\", \"time [ms]\")\n",
    "\n",
    "latex_list.insert(len(latex_list)-10, '\\midrule')\n",
    "latex_list.insert(len(latex_list)-6, '\\midrule')\n",
    "latex_new = '\\n'.join(latex_list)\n",
    "with open(\"pch.tex\", \"w\") as latex_file:\n",
    "    latex_file.writelines(latex_new)"
   ]
  },
  {
   "cell_type": "code",
   "execution_count": null,
   "id": "criminal-dispute",
   "metadata": {},
   "outputs": [],
   "source": []
  }
 ],
 "metadata": {
  "kernelspec": {
   "display_name": "Python 3",
   "language": "python",
   "name": "python3"
  },
  "language_info": {
   "codemirror_mode": {
    "name": "ipython",
    "version": 3
   },
   "file_extension": ".py",
   "mimetype": "text/x-python",
   "name": "python",
   "nbconvert_exporter": "python",
   "pygments_lexer": "ipython3",
   "version": "3.8.11"
  }
 },
 "nbformat": 4,
 "nbformat_minor": 5
}
