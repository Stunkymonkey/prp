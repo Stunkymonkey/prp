{
 "cells": [
  {
   "cell_type": "code",
   "execution_count": null,
   "id": "lucky-departure",
   "metadata": {},
   "outputs": [],
   "source": [
    "from helper import *\n",
    "\n",
    "import pandas as pd\n",
    "import numpy as np\n",
    "import os\n",
    "import csv\n",
    "import sys\n",
    "import matplotlib\n",
    "import matplotlib.pyplot as plt\n",
    "plt.rcParams['figure.figsize'] = [8, 8]\n",
    "# use LaTeX fonts in the plot\n",
    "matplotlib.use(\"pgf\")\n",
    "matplotlib.rcParams.update({\n",
    "    \"pgf.texsystem\": \"pdflatex\",\n",
    "    'font.family': 'serif',\n",
    "    'text.usetex': True,\n",
    "    'pgf.rcfonts': False,\n",
    "})\n",
    "%matplotlib inline"
   ]
  },
  {
   "cell_type": "code",
   "execution_count": null,
   "id": "superb-debut",
   "metadata": {},
   "outputs": [],
   "source": [
    "EVAL_DIR = \"/home/felix/todo/osm-tmp\"\n",
    "MLP_METHODS = [\"kmeans\", \"merge\", \"gonzalez\"]\n",
    "MLP_LEVELS = [[int(2 ** i)] for i in np.arange(8.0, 13.5, 1.0)]\n",
    "FAST_QUERY_METHODS = [\"pcrp\", \"pch\", \"prp\"]\n",
    "QUERY_METHODS = [\"normal\", \"bi\"] + FAST_QUERY_METHODS\n",
    "AREAS = [\"saarland\"]\n",
    "print(MLP_METHODS, \"with\", MLP_LEVELS)"
   ]
  },
  {
   "cell_type": "markdown",
   "id": "equivalent-cabinet",
   "metadata": {},
   "source": [
    "# eval"
   ]
  },
  {
   "cell_type": "code",
   "execution_count": null,
   "id": "atomic-flavor",
   "metadata": {},
   "outputs": [],
   "source": [
    "df_graph = pd.DataFrame()\n",
    "for area in AREAS:\n",
    "    for mlp_method in MLP_METHODS:\n",
    "        for level in MLP_LEVELS:\n",
    "            for query in QUERY_METHODS:\n",
    "                df_new = pd.read_json(EVAL_DIR + \"/\" + area + \"-\" + mlp_method + \"-\" +  \"_\".join(map(str, level)) + \"-\" + query + \"-info.json\", typ='series')\n",
    "                df_new = pd.DataFrame([df_new])\n",
    "                df_new[\"Area\"] = area\n",
    "                df_new[\"MLP_method\"] = mlp_method\n",
    "                df_new[\"Levels\"] = \"_\".join(map(str, level))\n",
    "                df_new[\"Query\"] = query\n",
    "                df_graph = pd.concat([df_graph, df_new], ignore_index=True)"
   ]
  },
  {
   "cell_type": "code",
   "execution_count": null,
   "id": "subtle-sweet",
   "metadata": {},
   "outputs": [],
   "source": [
    "assert((df_graph.groupby([\"amount_edges\"]).size() == 5).all())"
   ]
  },
  {
   "cell_type": "code",
   "execution_count": null,
   "id": "informative-belgium",
   "metadata": {},
   "outputs": [],
   "source": [
    "df_graph"
   ]
  },
  {
   "cell_type": "code",
   "execution_count": null,
   "id": "amber-cycle",
   "metadata": {},
   "outputs": [],
   "source": [
    "fig, ax = plt.subplots()\n",
    "speedups = list()\n",
    "for area in AREAS:\n",
    "    dijkstra = df_graph[(df_graph.Query == \"normal\") & (df_graph.Area == area)][\"amount_used_edges\"].iloc[0]\n",
    "    bidijkstra = df_graph[(df_graph.Query == \"bi\") & (df_graph.Area == area)][\"amount_used_edges\"].iloc[0]\n",
    "    for query in FAST_QUERY_METHODS:\n",
    "        for mlp in MLP_METHODS:\n",
    "            x = list()\n",
    "            y = list()\n",
    "            for partitions in MLP_LEVELS:\n",
    "                tmp = df_graph[(df_graph.Area == area) & (df_graph.Query == query) & (df_graph.MLP_method == mlp) & (df_graph.Levels == \"_\".join(map(str, partitions)))]\n",
    "                x.append(partitions[0])\n",
    "                y.append(tmp[\"amount_used_edges\"])\n",
    "#                 speedups.append({\"Query\": query, \"MLP\": mlp, \"_\".join(map(str, partitions)): dijkstra / tmp[\"time\"].mean()})\n",
    "            plt.plot(x, y, marker=plot_get(query), color=plot_get(mlp), label=query + \"-\" + mlp, alpha=0.7)\n",
    "plt.xlabel(\"MLP-Partition-Size\")\n",
    "plt.ylabel(\"edges per algorithm\")\n",
    "ax.set_yscale('log')\n",
    "plt.legend(loc='upper left')\n",
    "fig.savefig(\"used-edges-single-level.pgf\", bbox_inches=\"tight\")"
   ]
  },
  {
   "cell_type": "code",
   "execution_count": null,
   "id": "unauthorized-contest",
   "metadata": {},
   "outputs": [],
   "source": [
    "df_graph.groupby([\"MLP_method\", \"Levels\", \"Query\"])[\"amount_used_edges\"].first()"
   ]
  },
  {
   "cell_type": "code",
   "execution_count": null,
   "id": "universal-investigation",
   "metadata": {},
   "outputs": [],
   "source": [
    "df_table = pd.DataFrame()\n",
    "for area in AREAS:\n",
    "    dijkstra = df_graph[(df_graph.Query == \"normal\") & (df_graph.Area == area)][\"amount_used_edges\"].iloc[0]\n",
    "    print(\"original edge amount:\", dijkstra)\n",
    "    bidijkstra = df_graph[(df_graph.Query == \"bi\") & (df_graph.Area == area)][\"amount_used_edges\"].iloc[0]\n",
    "    for query in FAST_QUERY_METHODS:\n",
    "        for mlp in MLP_METHODS:\n",
    "            line = dict()\n",
    "            for partitions in MLP_LEVELS:\n",
    "                tmp = df_graph[(df_graph.Area == area) & (df_graph.Query == query) & (df_graph.MLP_method == mlp) & (df_graph.Levels == \"_\".join(map(str, partitions)))]\n",
    "                line[partitions[0]] = tmp[\"amount_used_edges\"].values[0]\n",
    "            df_new = pd.DataFrame([line])\n",
    "            df_new[\"MLP_method\"] = mlp\n",
    "            df_new[\"Query\"] = query\n",
    "            df_table = pd.concat([df_table, df_new], ignore_index=True)"
   ]
  },
  {
   "cell_type": "code",
   "execution_count": null,
   "id": "attractive-israel",
   "metadata": {},
   "outputs": [],
   "source": [
    "df_edges = df_table.groupby([\"Query\", \"MLP_method\"]).first()\n",
    "latex = df_edges.to_latex(float_format=\"{:0.1f}\".format)\n",
    "df_edges"
   ]
  },
  {
   "cell_type": "code",
   "execution_count": null,
   "id": "divided-breathing",
   "metadata": {},
   "outputs": [],
   "source": [
    "# fixup ugly latex code to have single line header\n",
    "latex_list = latex.splitlines()\n",
    "\n",
    "latex_list[0] = latex_list[0].replace('ll', 'll|', 1)\n",
    "\n",
    "partitions = latex_list[2]\n",
    "headers = latex_list[3].split(\"&\")\n",
    "headers = [headers[0], headers[1], \" \\multicolumn{\" + str(len(headers) - 2) + \"}{c}{amount of partitions} \\\\\\\\\"]\n",
    "\n",
    "latex_list[3] = partitions\n",
    "latex_list[2] = \"&\".join(headers)\n",
    "\n",
    "latex_list.insert(len(latex_list)-8, '\\midrule')\n",
    "latex_list.insert(len(latex_list)-5, '\\midrule')\n",
    "latex_new = '\\n'.join(latex_list)\n",
    "with open(\"edges.tex\", \"w\") as latex_file:\n",
    "    latex_file.writelines(latex_new)"
   ]
  },
  {
   "cell_type": "code",
   "execution_count": null,
   "id": "accessible-courage",
   "metadata": {},
   "outputs": [],
   "source": []
  }
 ],
 "metadata": {
  "kernelspec": {
   "display_name": "Python 3",
   "language": "python",
   "name": "python3"
  },
  "language_info": {
   "codemirror_mode": {
    "name": "ipython",
    "version": 3
   },
   "file_extension": ".py",
   "mimetype": "text/x-python",
   "name": "python",
   "nbconvert_exporter": "python",
   "pygments_lexer": "ipython3",
   "version": "3.8.9"
  }
 },
 "nbformat": 4,
 "nbformat_minor": 5
}
