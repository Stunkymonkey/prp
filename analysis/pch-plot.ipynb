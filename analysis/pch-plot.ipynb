{
 "cells": [
  {
   "cell_type": "code",
   "execution_count": null,
   "id": "early-resistance",
   "metadata": {},
   "outputs": [],
   "source": [
    "from helper import *\n",
    "\n",
    "import pandas as pd\n",
    "import numpy as np\n",
    "import os\n",
    "import csv\n",
    "import sys\n",
    "import matplotlib\n",
    "import matplotlib.pyplot as plt\n",
    "plt.rcParams['figure.figsize'] = [16, 8]\n",
    "# use LaTeX fonts in the plot\n",
    "matplotlib.use(\"pgf\")\n",
    "matplotlib.rcParams.update({\n",
    "    \"pgf.texsystem\": \"pdflatex\",\n",
    "    'font.family': 'serif',\n",
    "    'text.usetex': True,\n",
    "    'pgf.rcfonts': False,\n",
    "})\n",
    "%matplotlib inline"
   ]
  },
  {
   "cell_type": "code",
   "execution_count": null,
   "id": "favorite-variance",
   "metadata": {},
   "outputs": [],
   "source": [
    "# simply put osm files into the data-dir (all will get evaluated)\n",
    "EVAL_DIR = \"/home/felix/todo/osm-tmp\"\n",
    "MLP_METHODS = [\"kmeans\", \"merge\", \"hop\"]\n",
    "# MLP_LEVELS = [[int(2 ** i)] for i in np.arange(8.0, 13.5, 0.5)]\n",
    "MLP_LEVELS = [[int(2 ** i)] for i in np.arange(8.0, 13.5, 1.0)]\n",
    "QUERY_METHODS = [\"pch\", \"pch-pch\"]\n",
    "AREAS = [\"saarland\"]\n",
    "print(MLP_METHODS, \"with\", MLP_LEVELS)"
   ]
  },
  {
   "cell_type": "code",
   "execution_count": null,
   "id": "flush-nylon",
   "metadata": {},
   "outputs": [],
   "source": [
    "df = pd.DataFrame()\n",
    "for area in AREAS:\n",
    "    for query in QUERY_METHODS:\n",
    "        for mlp in MLP_METHODS:\n",
    "            for partitions in MLP_LEVELS:\n",
    "                tmp = pd.read_json(\"/home/felix/todo/osm-tmp/\" + area + \"-\" + mlp + \"-\" + \"_\".join(map(str, partitions)) + \"-\" + query + \"-time.json\")\n",
    "                tmp[\"Area\"] = area\n",
    "                tmp[\"Query\"] = query\n",
    "                tmp[\"Mlp\"] = mlp\n",
    "                tmp[\"Mlp_partitions\"] = \"_\".join(map(str, partitions))\n",
    "                df = df.append(tmp, ignore_index = True)"
   ]
  },
  {
   "cell_type": "code",
   "execution_count": null,
   "id": "manufactured-measurement",
   "metadata": {},
   "outputs": [],
   "source": [
    "fig, ax = plt.subplots()\n",
    "speedups = list()\n",
    "for area in AREAS:\n",
    "    dijkstra = df[(df.Query == \"normal\") & (df.Area == area)][\"time\"].mean()\n",
    "    bidijkstra = df[(df.Query == \"bi\") & (df.Area == area)][\"time\"].mean()\n",
    "    for query in QUERY_METHODS:\n",
    "        for mlp in MLP_METHODS:\n",
    "            x = list()\n",
    "            y = list()\n",
    "            for partitions in MLP_LEVELS:\n",
    "                tmp = df[(df.Area == area) & (df.Query == query) & (df.Mlp == mlp) & (df.Mlp_partitions == \"_\".join(map(str, partitions)))]\n",
    "                x.append(partitions[0])\n",
    "                y.append(tmp[\"time\"].mean())\n",
    "                speedups.append({\"Query\": query, \"MLP\": mlp, \"_\".join(map(str, partitions)): dijkstra / tmp[\"time\"].mean()})\n",
    "            plt.plot(x, y, marker=plot_get(query), color=plot_get(mlp), label=query.replace(\"pch-pch\", \"raw-pch\") + \"-\" + mlp, alpha=0.7)\n",
    "plt.xlabel(\"MLP-Partition-Size\")\n",
    "plt.ylabel(\"Query-time in ns\")\n",
    "plt.legend(loc='upper left')\n",
    "fig.savefig(\"pch.pgf\", bbox_inches=\"tight\")"
   ]
  },
  {
   "cell_type": "code",
   "execution_count": null,
   "id": "worthy-conjunction",
   "metadata": {},
   "outputs": [],
   "source": []
  }
 ],
 "metadata": {
  "kernelspec": {
   "display_name": "Python 3",
   "language": "python",
   "name": "python3"
  },
  "language_info": {
   "codemirror_mode": {
    "name": "ipython",
    "version": 3
   },
   "file_extension": ".py",
   "mimetype": "text/x-python",
   "name": "python",
   "nbconvert_exporter": "python",
   "pygments_lexer": "ipython3",
   "version": "3.8.9"
  }
 },
 "nbformat": 4,
 "nbformat_minor": 5
}
