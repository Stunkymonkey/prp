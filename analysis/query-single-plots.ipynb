{
 "cells": [
  {
   "cell_type": "code",
   "execution_count": null,
   "id": "white-lobby",
   "metadata": {},
   "outputs": [],
   "source": [
    "from helper import *\n",
    "\n",
    "import pandas as pd\n",
    "import numpy as np\n",
    "import os\n",
    "import csv\n",
    "import sys\n",
    "import matplotlib\n",
    "import matplotlib.pyplot as plt\n",
    "plt.rcParams['figure.figsize'] = [16, 8]\n",
    "# use LaTeX fonts in the plot\n",
    "matplotlib.use(\"pgf\")\n",
    "matplotlib.rcParams.update({\n",
    "    \"pgf.texsystem\": \"pdflatex\",\n",
    "    'font.family': 'serif',\n",
    "    'text.usetex': True,\n",
    "    'pgf.rcfonts': False,\n",
    "})\n",
    "%matplotlib inline"
   ]
  },
  {
   "cell_type": "code",
   "execution_count": null,
   "id": "stainless-render",
   "metadata": {},
   "outputs": [],
   "source": [
    "OUTPUT = \"single\"\n",
    "EVAL_DIR = \"/home/felix/todo/algohol/single\"\n",
    "MLP_METHODS = [\"kmeans\", \"gonzalez\", \"merge\"]\n",
    "MLP_LEVELS = [[int(2 ** i)] for i in np.arange(9.0, 12.5, 1.0)]\n",
    "FAST_QUERY_METHODS = [\"pcrp\", \"pch\", \"prp\"]\n",
    "QUERY_METHODS = [\"normal\"] + FAST_QUERY_METHODS\n",
    "AREAS = [\"baden-wuerttemberg\"]\n",
    "SKIP_COUNTS = False\n",
    "print(MLP_METHODS, \"with\", MLP_LEVELS)"
   ]
  },
  {
   "cell_type": "markdown",
   "id": "ordered-borough",
   "metadata": {},
   "source": [
    "# Time"
   ]
  },
  {
   "cell_type": "code",
   "execution_count": null,
   "id": "desirable-equilibrium",
   "metadata": {},
   "outputs": [],
   "source": [
    "df_query = pd.DataFrame()\n",
    "for area in AREAS:\n",
    "    for query in QUERY_METHODS:\n",
    "        if query == \"normal\" or query == \"bi\":\n",
    "            tmp = pd.read_json(EVAL_DIR + \"/\" + area + \"-\" + query + \"-time.json\")\n",
    "            tmp[\"Area\"] = area\n",
    "            tmp[\"Query\"] = query\n",
    "            df_query = df_query.append(tmp, ignore_index = True)\n",
    "        else:\n",
    "            for mlp in MLP_METHODS:\n",
    "                for partitions in MLP_LEVELS:\n",
    "                    tmp = pd.read_json(EVAL_DIR + \"/\" + area + \"-\" + mlp + \"-\" + \"_\".join(map(str, partitions)) + \"-\" + query + \"-time.json\")\n",
    "                    tmp[\"Area\"] = area\n",
    "                    tmp[\"Query\"] = query\n",
    "                    tmp[\"Mlp\"] = mlp\n",
    "                    tmp[\"Mlp_partitions\"] = \"_\".join(map(str, partitions))\n",
    "                    df_query = df_query.append(tmp, ignore_index = True)"
   ]
  },
  {
   "cell_type": "code",
   "execution_count": null,
   "id": "raised-victorian",
   "metadata": {},
   "outputs": [],
   "source": [
    "data = list()\n",
    "labels = list()\n",
    "for area in AREAS:\n",
    "    for query in FAST_QUERY_METHODS:\n",
    "        for mlp in MLP_METHODS:\n",
    "            for partitions in MLP_LEVELS:\n",
    "                tmp = df_query[(df_query.Area == area) & (df_query.Query == query) & (df_query.Mlp == mlp) & (df_query.Mlp_partitions == \"_\".join(map(str, partitions)))]\n",
    "                data.append(tmp[\"time\"])\n",
    "                labels.append(query.upper() + \"-\" + area + \"-\" + \"_\".join(map(str, partitions)) + \"-\" + mlp_title(mlp))\n",
    "        \n",
    "fig, ax = plt.subplots()\n",
    "ax.boxplot(data, labels=labels)#, showmeans=True)\n",
    "plt.xticks(rotation=40, ha='right')\n",
    "fig.savefig(OUTPUT + \"-comparison.pgf\", bbox_inches=\"tight\")"
   ]
  },
  {
   "cell_type": "code",
   "execution_count": null,
   "id": "constant-tower",
   "metadata": {
    "scrolled": true
   },
   "outputs": [],
   "source": [
    "fig, ax = plt.subplots()\n",
    "speedups = list()\n",
    "for area in AREAS:\n",
    "    dijkstra = df_query[(df_query.Query == \"normal\") & (df_query.Area == area)][\"time\"].mean()\n",
    "    bidijkstra = df_query[(df_query.Query == \"bi\") & (df_query.Area == area)][\"time\"].mean()\n",
    "    for query in FAST_QUERY_METHODS:\n",
    "        for mlp in MLP_METHODS:\n",
    "            x = list()\n",
    "            y = list()\n",
    "            for partitions in MLP_LEVELS:\n",
    "                tmp = df_query[(df_query.Area == area) & (df_query.Query == query) & (df_query.Mlp == mlp) & (df_query.Mlp_partitions == \"_\".join(map(str, partitions)))]\n",
    "                x.append(partitions[0])\n",
    "                y.append(ns_to_ms(tmp[\"time\"].mean()))\n",
    "                speedups.append({\"Query\": query.upper(), \"MLP\": mlp_title(mlp), \"_\".join(map(str, partitions))+\"-time\": ns_to_ms(tmp[\"time\"].mean()), \"_\".join(map(str, partitions))+\"-speedup\": dijkstra / tmp[\"time\"].mean()})\n",
    "            plt.plot(x, y, marker=plot_get(query), color=plot_get(mlp), label=query.upper() + \"-\" + mlp_title(mlp), alpha=0.7)\n",
    "plt.xlabel(\"MLP partition size\")\n",
    "plt.ylabel(\"Query time [ms]\")\n",
    "plt.legend(ncol=3, loc=(0.005, 1.02))\n",
    "fig.savefig(OUTPUT + \"-query.pgf\", bbox_inches=\"tight\")"
   ]
  },
  {
   "cell_type": "code",
   "execution_count": null,
   "id": "billion-engine",
   "metadata": {},
   "outputs": [],
   "source": [
    "df_speedups = pd.DataFrame(speedups)\n",
    "assert((df_speedups.groupby([\"Query\", \"MLP\"]).count().all() == 1).iloc[0])\n",
    "df_speedups = df_speedups.groupby([\"Query\", \"MLP\"], sort = False).first()\n",
    "# df_speedups.reset_index(inplace=True)\n",
    "# df_speedups.to_latex('speedups.tex', float_format=\"{:0.1f}\".format, index=False)\n",
    "latex = df_speedups.to_latex(float_format=\"{:0.1f}\".format)\n",
    "df_speedups"
   ]
  },
  {
   "cell_type": "code",
   "execution_count": null,
   "id": "stuck-smooth",
   "metadata": {},
   "outputs": [],
   "source": [
    "# fixup ugly latex code to have single line header\n",
    "latex_list = latex.splitlines()\n",
    "\n",
    "columns = latex_list[2].split(\"&\")\n",
    "indices = latex_list[3].split(\"&\")\n",
    "\n",
    "latex_list[2] = \"& \"\n",
    "for partition in MLP_LEVELS:\n",
    "    latex_list[2] += \"& \\multicolumn{2}{c|}{\" + \"-\".join(map(str, partition)) + \"} \"\n",
    "latex_list[2] += \" \\\\\\\\\"\n",
    "# remove last pipe from \"c\"\n",
    "latex_list[2] = \"c\".join(latex_list[2].rsplit(\"c|\", 1))\n",
    "\n",
    "latex_list[3] = \"&\".join(indices[:2] + columns[2:])\n",
    "\n",
    "for partition in MLP_LEVELS:\n",
    "    latex_list[3] = latex_list[3].replace(\"\\\\_\".join(map(str, partition)) + \"-speedup\", \"speedup\").replace(\"\\\\_\".join(map(str, partition)) + \"-time\", \"[ms]\")\n",
    "\n",
    "latex_list[0] = latex_list[0].replace('ll', 'll|', 1)\n",
    "latex_list[0] = latex_list[0].replace('rr', 'rr|', len(MLP_LEVELS) - 1)\n",
    "\n",
    "latex_list[0] = latex_list[0].replace(\"\\\\begin{tabular}{l\", \"\\\\begin{tabularx}{\\\\textwidth}{X\")\n",
    "latex_list[-1] = latex_list[-1].replace(\"\\\\end{tabular}\", \"\\\\end{tabularx}\")\n",
    "\n",
    "if len(MLP_METHODS) == 3:\n",
    "    latex_list.insert(len(latex_list)-8, '\\midrule')\n",
    "    latex_list.insert(len(latex_list)-5, '\\midrule')\n",
    "else:\n",
    "    latex_list.insert(len(latex_list)-4, '\\midrule')\n",
    "    latex_list.insert(len(latex_list)-3, '\\midrule')\n",
    "    \n",
    "\n",
    "\n",
    "latex_new = '\\n'.join(latex_list)\n",
    "with open(OUTPUT + \"-speedups.tex\", \"w\") as latex_file:\n",
    "    latex_file.writelines(latex_new)"
   ]
  },
  {
   "cell_type": "markdown",
   "id": "deluxe-treatment",
   "metadata": {},
   "source": [
    "# Count"
   ]
  },
  {
   "cell_type": "code",
   "execution_count": null,
   "id": "french-proportion",
   "metadata": {},
   "outputs": [],
   "source": [
    "if not SKIP_COUNTS:\n",
    "    df_count = pd.DataFrame()\n",
    "    for area in AREAS:\n",
    "        for query in QUERY_METHODS:\n",
    "            for mlp in MLP_METHODS:\n",
    "                for partitions in MLP_LEVELS:\n",
    "                    if query == \"normal\" or query == \"bi\":\n",
    "                        tmp = pd.read_json(EVAL_DIR + \"/\" + area + \"-\" + query + \"-count.json\")\n",
    "                    else:\n",
    "                        tmp = pd.read_json(EVAL_DIR + \"/\" + area + \"-\" + mlp + \"-\" + \"_\".join(map(str, partitions)) + \"-\" + query + \"-count.json\")\n",
    "                    tmp[\"Query\"] = query\n",
    "                    tmp[\"Area\"] = area\n",
    "                    tmp[\"Mlp\"] = mlp\n",
    "                    tmp[\"Mlp_partitions\"] = \"_\".join(map(str, partitions))\n",
    "                    df_count = df_count.append(tmp, ignore_index = True)"
   ]
  },
  {
   "cell_type": "code",
   "execution_count": null,
   "id": "received-stuart",
   "metadata": {},
   "outputs": [],
   "source": [
    "if not SKIP_COUNTS:\n",
    "#     fig, ax = plt.subplots()\n",
    "    fig, ax = plt.subplots(1, 1, figsize=(set_pgf_size(TEXT_WIDTH * 0.95)[0], set_pgf_size(TEXT_WIDTH * 1.0)[1]))\n",
    "    for area in AREAS:\n",
    "        for query in FAST_QUERY_METHODS:\n",
    "            for mlp in MLP_METHODS:\n",
    "                x = list()\n",
    "                y = list()\n",
    "                for partitions in MLP_LEVELS:\n",
    "                    tmp = df_count[(df_count.Area == area) & (df_count.Query == query) & (df_count.Mlp == mlp) & (df_count.Mlp_partitions == \"_\".join(map(str, partitions)))]\n",
    "                    x.append(partitions[0])\n",
    "                    y.append(tmp[\"heap_pops\"].mean())\n",
    "                plt.plot(x, y, marker=plot_get(query), color=plot_get(mlp), label=query.upper() + \"-\" + mlp_title(mlp), alpha=0.7)\n",
    "\n",
    "    plt.xlabel(\"MLP partition size\")\n",
    "    plt.ylabel(\"Average heap-pops\")\n",
    "#     plt.legend(ncol=3, loc=(0.005, 1.02))\n",
    "#     plt.legend(ncol=3, loc=(0.005, 1.07))\n",
    "\n",
    "    plt.ticklabel_format(style='sci', axis='y', scilimits=(4,4))\n",
    "    fig.savefig(OUTPUT + \"-query-heap_pops.pgf\", bbox_inches=\"tight\")"
   ]
  },
  {
   "cell_type": "code",
   "execution_count": null,
   "id": "consecutive-crown",
   "metadata": {},
   "outputs": [],
   "source": [
    "if not SKIP_COUNTS:\n",
    "#     fig, ax = plt.subplots()\n",
    "    fig, ax = plt.subplots(1, 1, figsize=(set_pgf_size(TEXT_WIDTH * 0.95)[0], set_pgf_size(TEXT_WIDTH * 1.0)[1]))\n",
    "    for area in AREAS:\n",
    "        for query in FAST_QUERY_METHODS:\n",
    "            for mlp in MLP_METHODS:\n",
    "                x = list()\n",
    "                y = list()\n",
    "                for partitions in MLP_LEVELS:\n",
    "                    tmp = df_count[(df_count.Area == area) & (df_count.Query == query) & (df_count.Mlp == mlp) & (df_count.Mlp_partitions == \"_\".join(map(str, partitions)))]\n",
    "                    x.append(partitions[0])\n",
    "                    y.append(tmp[\"relaxed_edges\"].mean())\n",
    "                plt.plot(x, y, marker=plot_get(query), color=plot_get(mlp), label=query.upper() + \"-\" + mlp_title(mlp), alpha=0.7)\n",
    "\n",
    "    plt.xlabel(\"MLP partition size\")\n",
    "    plt.ylabel(\"Average relaxed-edges\")\n",
    "    plt.legend(ncol=3, loc=(-0.06, 1.07))\n",
    "    plt.ticklabel_format(style='sci', axis='y', scilimits=(0,0))\n",
    "    fig.savefig(OUTPUT + \"-query-relaxed_edges.pgf\", bbox_inches=\"tight\")"
   ]
  },
  {
   "cell_type": "code",
   "execution_count": null,
   "id": "sixth-oliver",
   "metadata": {},
   "outputs": [],
   "source": []
  }
 ],
 "metadata": {
  "kernelspec": {
   "display_name": "Python 3",
   "language": "python",
   "name": "python3"
  },
  "language_info": {
   "codemirror_mode": {
    "name": "ipython",
    "version": 3
   },
   "file_extension": ".py",
   "mimetype": "text/x-python",
   "name": "python",
   "nbconvert_exporter": "python",
   "pygments_lexer": "ipython3",
   "version": "3.8.11"
  }
 },
 "nbformat": 4,
 "nbformat_minor": 5
}
