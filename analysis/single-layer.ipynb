{
 "cells": [
  {
   "cell_type": "code",
   "execution_count": null,
   "id": "white-lobby",
   "metadata": {},
   "outputs": [],
   "source": [
    "import pandas as pd\n",
    "import numpy as np\n",
    "import os\n",
    "from helper import *\n",
    "import matplotlib.pyplot as plt\n",
    "plt.rcParams['figure.figsize'] = [16, 8]"
   ]
  },
  {
   "cell_type": "code",
   "execution_count": null,
   "id": "found-oxide",
   "metadata": {},
   "outputs": [],
   "source": [
    "# simply put osm files into the data-dir (all will get evaluated)\n",
    "EVAL_DIR = \"/home/felix/todo/osm-tmp\"\n",
    "SRTM_DIR = \"/home/felix/todo/osm/srtm\"\n",
    "# kmeans, merge, hop\n",
    "MLP_METHODS = [\"kmeans\", \"merge\"]\n",
    "MLP_LAYERS = [250, 500, 750, 1_000, 1_500, 2_000, 3_000, 4_000, 6_000, 8_000, 12_000, 16_000]\n",
    "FAST_QUERY_METHODS = [\"crp\", \"pch\", \"prp\"]\n",
    "QUERY_METHODS = [\"normal\", \"bi\"] + FAST_QUERY_METHODS\n",
    "EVAL_FILE = os.path.join(EVAL_DIR, \"saarland.eval\")\n",
    "EVAL_AMOUNTS = 10_000\n",
    "AREAS = [\"saarland\"]"
   ]
  },
  {
   "cell_type": "code",
   "execution_count": null,
   "id": "desirable-equilibrium",
   "metadata": {},
   "outputs": [],
   "source": [
    "df = pd.DataFrame()\n",
    "for area in AREAS:\n",
    "    for method in QUERY_METHODS:\n",
    "        for mlp in MLP_METHODS:\n",
    "            for partitions in MLP_LAYERS:\n",
    "                if method == \"normal\" or method == \"bi\":\n",
    "                    tmp = pd.read_json(\"/home/felix/todo/osm-tmp/\" + area + \"-\" + method + \"-time.json\")\n",
    "                else:\n",
    "                    tmp = pd.read_json(\"/home/felix/todo/osm-tmp/\" + area + \"-\" + mlp + \"-\" + str(partitions) + \"-\" + method + \"-time.json\")\n",
    "                tmp[\"method\"] = method\n",
    "                tmp[\"area\"] = area\n",
    "                tmp[\"mlp\"] = mlp\n",
    "                tmp[\"mlp_partitions\"] = partitions\n",
    "                df = df.append(tmp, ignore_index = True)"
   ]
  },
  {
   "cell_type": "code",
   "execution_count": null,
   "id": "raised-victorian",
   "metadata": {},
   "outputs": [],
   "source": [
    "data = list()\n",
    "labels = list()\n",
    "for area in AREAS:\n",
    "    for method in FAST_QUERY_METHODS:\n",
    "        for partitions in MLP_LAYERS:\n",
    "            for mlp_method in MLP_METHODS:\n",
    "                tmp = df[(df.method == method) & (df.area == area) & (df.mlp_partitions == partitions) & (df.mlp == mlp_method)]\n",
    "                data.append(tmp[\"time\"])\n",
    "                labels.append(method + \"-\" + area + \"-\" + str(partitions))"
   ]
  },
  {
   "cell_type": "code",
   "execution_count": null,
   "id": "combined-creation",
   "metadata": {},
   "outputs": [],
   "source": [
    "fig, ax = plt.subplots()\n",
    "ax.set_title('Evaluation')\n",
    "ax.boxplot(data, labels=labels, showmeans=True)\n",
    "plt.xticks(rotation=30, ha='right')\n",
    "plt.savefig(\"comparison.png\")\n",
    "plt.show()"
   ]
  },
  {
   "cell_type": "code",
   "execution_count": null,
   "id": "constant-tower",
   "metadata": {},
   "outputs": [],
   "source": [
    "markers = ['o', '+', 'x', '*', '.']\n",
    "for area in AREAS:\n",
    "    dijkstra = df[(df.method == \"normal\") & (df.area == area)][\"time\"].mean()\n",
    "    bidijkstra = df[(df.method == \"bi\") & (df.area == area)][\"time\"].mean()\n",
    "    for (i, method) in enumerate(FAST_QUERY_METHODS):\n",
    "        color = plt.cm.Set1(i)\n",
    "        for (mlp_method, marker) in zip(MLP_METHODS, markers):\n",
    "            x = list()\n",
    "            y = list()\n",
    "            for partitions in MLP_LAYERS:\n",
    "                tmp = df[(df.method == method) & (df.area == area) & (df.mlp_partitions == partitions) & (df.mlp == mlp_method)]\n",
    "                x.append(partitions)\n",
    "                y.append(tmp[\"time\"].mean())\n",
    "                speedup = dijkstra / tmp[\"time\"].mean()\n",
    "                print(method, partitions, speedup)\n",
    "            plt.scatter(x, y, marker=marker, color=color, label=method + \"-\" + mlp_method)\n",
    "\n",
    "plt.xlabel(\"MLP-Partition-Size\")\n",
    "plt.ylabel(\"Query-time\")\n",
    "plt.legend(loc='upper left')\n",
    "plt.savefig(\"single-layer.png\")\n",
    "plt.show()"
   ]
  },
  {
   "cell_type": "code",
   "execution_count": null,
   "id": "killing-office",
   "metadata": {},
   "outputs": [],
   "source": []
  }
 ],
 "metadata": {
  "kernelspec": {
   "display_name": "Python 3",
   "language": "python",
   "name": "python3"
  },
  "language_info": {
   "codemirror_mode": {
    "name": "ipython",
    "version": 3
   },
   "file_extension": ".py",
   "mimetype": "text/x-python",
   "name": "python",
   "nbconvert_exporter": "python",
   "pygments_lexer": "ipython3",
   "version": "3.8.9"
  }
 },
 "nbformat": 4,
 "nbformat_minor": 5
}
