{
 "cells": [
  {
   "cell_type": "code",
   "execution_count": null,
   "id": "lucky-departure",
   "metadata": {},
   "outputs": [],
   "source": [
    "import pandas as pd\n",
    "import numpy as np\n",
    "import os\n",
    "import csv\n",
    "import sys\n",
    "import matplotlib.pyplot as plt\n",
    "from helper import *\n",
    "plt.rcParams['figure.figsize'] = [8, 8]"
   ]
  },
  {
   "cell_type": "code",
   "execution_count": null,
   "id": "superb-debut",
   "metadata": {},
   "outputs": [],
   "source": [
    "EVAL_DIR = \"/home/felix/todo/osm-tmp\"\n",
    "# kmeans, merge, hop\n",
    "MLP_METHODS = [\"kmeans\", \"merge\", \"hop\"]\n",
    "MLP_LAYERS = [250, 500, 750, 1_000, 1_500, 2_000, 3_000, 4_000, 6_000, 8_000, 12_000]"
   ]
  },
  {
   "cell_type": "code",
   "execution_count": null,
   "id": "fifteen-lottery",
   "metadata": {},
   "outputs": [],
   "source": [
    "combinations = dict()\n",
    "for fmi_file in find_files_ending(\".fmi\", EVAL_DIR):\n",
    "    for method in MLP_METHODS:\n",
    "        for layer in MLP_LAYERS:\n",
    "            combinations[(fmi_file, method, layer)] = {\"fmi_file\": fmi_file, \"mlp_file\": fmi_file.replace(\".fmi\", \"\") + \"-\" + method + \"-\" + str(layer) + \".mlp\"}"
   ]
  },
  {
   "cell_type": "code",
   "execution_count": null,
   "id": "hazardous-amino",
   "metadata": {},
   "outputs": [],
   "source": [
    "for ((fmi_file, method, partitions), inputs) in combinations.items():\n",
    "    output = inputs[\"mlp_file\"].replace(\".mlp\", \".csv\")\n",
    "    if not_created_yet(output, EVAL_DIR):\n",
    "        shell_execute([sys.executable, \"../analysis/fmi+mlp_csv-export.py\", \"-f\", inputs[\"fmi_file\"], \"-m\", inputs[\"mlp_file\"], \"-o\", output], EVAL_DIR)"
   ]
  },
  {
   "cell_type": "code",
   "execution_count": null,
   "id": "beautiful-banking",
   "metadata": {},
   "outputs": [],
   "source": [
    "df = pd.DataFrame()\n",
    "for ((fmi_file, method, partitions), inputs) in combinations.items():\n",
    "    csv_file = inputs[\"mlp_file\"].replace(\".mlp\", \".csv\")\n",
    "    df_new = pd.read_csv(csv_file)\n",
    "    df_new.drop([\"lat\", \"lng\"], axis=1, inplace=True)\n",
    "    df_new[\"method\"] = method\n",
    "    df_new[\"partitions\"] = partitions\n",
    "    df = pd.concat([df, df_new]) #, ignore_index=True)"
   ]
  },
  {
   "cell_type": "code",
   "execution_count": null,
   "id": "peaceful-transition",
   "metadata": {},
   "outputs": [],
   "source": [
    "fig, ax = plt.subplots()\n",
    "ax.set_title('MLP-Layers')\n",
    "markers = ['o', '+', 'x', '*', '.']\n",
    "\n",
    "for (method, marker) in zip(MLP_METHODS, markers):\n",
    "    x = list()\n",
    "    y = list()\n",
    "    for layer in MLP_LAYERS:\n",
    "        cut_size = sum(df[(df.method == method) & (df.partitions == layer)]['highest_diff'].value_counts()[1:])\n",
    "        max_partition_size = max(df[(df.method == method) & (df.partitions == layer)]['partition0'].value_counts())\n",
    "        x.append(max_partition_size)\n",
    "        y.append(cut_size)\n",
    "    plt.scatter(x, y, marker=marker, label=method)\n",
    "    \n",
    "plt.xlabel(\"maximum partition size\")\n",
    "plt.ylabel(\"amount of border nodes\")\n",
    "plt.legend(loc='upper right')\n",
    "plt.savefig(\"mlp-max_partition_size-cut_size.png\")\n",
    "plt.show()"
   ]
  },
  {
   "cell_type": "code",
   "execution_count": null,
   "id": "former-engagement",
   "metadata": {},
   "outputs": [],
   "source": [
    "fig, ax = plt.subplots()\n",
    "ax.set_title('MLP-Layers')\n",
    "markers = ['o', '+', 'x', '*', '.']\n",
    "\n",
    "for (method, marker) in zip(MLP_METHODS, markers):\n",
    "    x = list()\n",
    "    y = list()\n",
    "    for layer in MLP_LAYERS:\n",
    "        number_of_partitions = len(df[(df.method == method) & (df.partitions == layer)]['partition0'].unique())\n",
    "        max_partition_size = max(df[(df.method == method) & (df.partitions == layer)]['partition0'].value_counts())\n",
    "        x.append(number_of_partitions)\n",
    "        y.append(max_partition_size)\n",
    "    plt.scatter(x, y, marker=marker, label=method)\n",
    "    \n",
    "plt.xlabel(\"number of partitions\")\n",
    "plt.ylabel(\"maximum partition size\")\n",
    "plt.legend(loc='upper right')\n",
    "plt.savefig(\"mlp-number_of_partitions-max_partition_size.png\")\n",
    "plt.show()"
   ]
  },
  {
   "cell_type": "code",
   "execution_count": null,
   "id": "compact-failure",
   "metadata": {},
   "outputs": [],
   "source": [
    "with open(EVAL_DIR + \"/log.json\") as file:\n",
    "    tmp = file.readlines()\n",
    "    log = pd.read_json(\" \".join(tmp), orient='index')"
   ]
  },
  {
   "cell_type": "code",
   "execution_count": null,
   "id": "interior-fellowship",
   "metadata": {},
   "outputs": [],
   "source": [
    "# create command string to not match against list\n",
    "log['command_string'] = log['command'].agg(lambda x: ' '.join(map(str, x)))"
   ]
  },
  {
   "cell_type": "code",
   "execution_count": null,
   "id": "homeless-bones",
   "metadata": {},
   "outputs": [],
   "source": [
    "fig, ax = plt.subplots()\n",
    "ax.set_title('MLP-Layers')\n",
    "markers = ['o', '+', 'x', '*', '.']\n",
    "\n",
    "for (method, marker) in zip(MLP_METHODS, markers):\n",
    "    x = list()\n",
    "    y = list()\n",
    "    for layer in MLP_LAYERS:\n",
    "        lines = log[(log['command_string'].str.contains(\"mlp_\" + method)) & (log['command_string'].str.endswith(\" \" + str(layer)))]\n",
    "        if lines.shape[0] == 0:\n",
    "            continue\n",
    "        if lines.shape[0] > 1:\n",
    "            raise Exception('invalid amounts (unsure which to take)')\n",
    "        line = lines.iloc[0]\n",
    "        runtime = line['time'].replace(\" seconds\", \"\")\n",
    "        number_of_partitions = len(df[(df.method == method) & (df.partitions == layer)]['partition0'].unique())\n",
    "        x.append(number_of_partitions)\n",
    "        y.append(float(runtime))\n",
    "    plt.scatter(x, y, marker=marker, label=method, alpha=0.8)\n",
    "    \n",
    "plt.xlabel(\"number of partitions\")\n",
    "plt.ylabel(\"runtime in seconds\")\n",
    "ax.set_yscale('log')\n",
    "plt.legend(loc='upper center')\n",
    "plt.savefig(\"mlp-number_of_partitions-runtime.png\")\n",
    "plt.show()"
   ]
  },
  {
   "cell_type": "code",
   "execution_count": null,
   "id": "accepted-confidence",
   "metadata": {},
   "outputs": [],
   "source": []
  }
 ],
 "metadata": {
  "kernelspec": {
   "display_name": "Python 3",
   "language": "python",
   "name": "python3"
  },
  "language_info": {
   "codemirror_mode": {
    "name": "ipython",
    "version": 3
   },
   "file_extension": ".py",
   "mimetype": "text/x-python",
   "name": "python",
   "nbconvert_exporter": "python",
   "pygments_lexer": "ipython3",
   "version": "3.8.9"
  }
 },
 "nbformat": 4,
 "nbformat_minor": 5
}
