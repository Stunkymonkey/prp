{
 "cells": [
  {
   "cell_type": "code",
   "execution_count": null,
   "id": "lucky-departure",
   "metadata": {},
   "outputs": [],
   "source": [
    "from helper import *\n",
    "\n",
    "import pandas as pd\n",
    "import numpy as np\n",
    "import os\n",
    "import csv\n",
    "import sys\n",
    "import matplotlib\n",
    "import matplotlib.pyplot as plt\n",
    "plt.rcParams['figure.figsize'] = [8, 8]\n",
    "# use LaTeX fonts in the plot\n",
    "matplotlib.use(\"pgf\")\n",
    "matplotlib.rcParams.update({\n",
    "    \"pgf.texsystem\": \"pdflatex\",\n",
    "    'font.family': 'serif',\n",
    "    'text.usetex': True,\n",
    "    'pgf.rcfonts': False,\n",
    "})\n",
    "%matplotlib inline"
   ]
  },
  {
   "cell_type": "code",
   "execution_count": null,
   "id": "superb-debut",
   "metadata": {},
   "outputs": [],
   "source": [
    "EVAL_DIR = \"/home/felix/todo/osm-tmp\"\n",
    "MLP_METHODS = [\"kmeans\", \"merge\", \"hop\"]\n",
    "# MLP_LEVELS = [[int(2 ** i)] for i in np.arange(8.0, 13.5, 0.5)]\n",
    "MLP_LEVELS = [[int(2 ** i)] for i in np.arange(8.0, 13.5, 1.0)]\n",
    "FAST_QUERY_METHODS = [\"crp\", \"pch\", \"prp\"]\n",
    "QUERY_METHODS = [\"normal\", \"bi\"] + FAST_QUERY_METHODS\n",
    "print(MLP_METHODS, \"with\", MLP_LEVELS)"
   ]
  },
  {
   "cell_type": "code",
   "execution_count": null,
   "id": "compact-failure",
   "metadata": {},
   "outputs": [],
   "source": [
    "with open(EVAL_DIR + \"/log.json\") as file:\n",
    "    tmp = file.readlines()\n",
    "    log = pd.read_json(\" \".join(tmp), orient='index')"
   ]
  },
  {
   "cell_type": "code",
   "execution_count": null,
   "id": "interior-fellowship",
   "metadata": {},
   "outputs": [],
   "source": [
    "# create command string to not match against list\n",
    "log['command_string'] = log['command'].agg(lambda x: ' '.join(map(str, x)))"
   ]
  },
  {
   "cell_type": "code",
   "execution_count": null,
   "id": "homeless-bones",
   "metadata": {},
   "outputs": [],
   "source": [
    "fig, ax = plt.subplots()\n",
    "\n",
    "for method in MLP_METHODS:\n",
    "    x = list()\n",
    "    y = list()\n",
    "    for level in MLP_LEVELS:\n",
    "        lines = log[(log['command_string'].str.contains(\"prp_pre\")) & (log['command_string'].str.contains(method + \"-\" + \"_\".join(map(str, level))))]\n",
    "        if lines.shape[0] == 0:\n",
    "            continue\n",
    "        # take last line of execution\n",
    "        line = lines.iloc[-1]\n",
    "        runtime = line['time'].replace(\" seconds\", \"\")\n",
    "        x.append(level)\n",
    "        y.append(float(runtime))\n",
    "    ax.plot(x, y, color=plot_get(method))\n",
    "    ax.scatter(x, y, color=plot_get(method), label=method)\n",
    "    \n",
    "ax.set_xlabel(\"number of partitions\")\n",
    "ax.set_ylabel(\"runtime in seconds\")\n",
    "ax.legend(loc='upper right')\n",
    "fig.savefig(\"pre-runtime.pgf\", bbox_inches=\"tight\")"
   ]
  },
  {
   "cell_type": "code",
   "execution_count": null,
   "id": "accepted-confidence",
   "metadata": {},
   "outputs": [],
   "source": []
  }
 ],
 "metadata": {
  "kernelspec": {
   "display_name": "Python 3",
   "language": "python",
   "name": "python3"
  },
  "language_info": {
   "codemirror_mode": {
    "name": "ipython",
    "version": 3
   },
   "file_extension": ".py",
   "mimetype": "text/x-python",
   "name": "python",
   "nbconvert_exporter": "python",
   "pygments_lexer": "ipython3",
   "version": "3.8.9"
  }
 },
 "nbformat": 4,
 "nbformat_minor": 5
}
