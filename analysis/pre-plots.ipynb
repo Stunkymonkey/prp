{
 "cells": [
  {
   "cell_type": "code",
   "execution_count": null,
   "id": "lucky-departure",
   "metadata": {},
   "outputs": [],
   "source": [
    "from helper import *\n",
    "\n",
    "import pandas as pd\n",
    "import numpy as np\n",
    "import os\n",
    "import csv\n",
    "import sys\n",
    "import matplotlib\n",
    "import matplotlib.pyplot as plt\n",
    "plt.rcParams['figure.figsize'] = [8, 8]\n",
    "# use LaTeX fonts in the plot\n",
    "matplotlib.use(\"pgf\")\n",
    "matplotlib.rcParams.update({\n",
    "    \"pgf.texsystem\": \"pdflatex\",\n",
    "    'font.family': 'serif',\n",
    "    'text.usetex': True,\n",
    "    'pgf.rcfonts': False,\n",
    "})\n",
    "%matplotlib inline"
   ]
  },
  {
   "cell_type": "code",
   "execution_count": null,
   "id": "superb-debut",
   "metadata": {},
   "outputs": [],
   "source": [
    "OUTPUT = \"single\"\n",
    "EVAL_DIR = \"/home/felix/todo/algohol/single\"\n",
    "MLP_METHODS = [\"kmeans\", \"gonzalez\", \"merge\"]\n",
    "MLP_LEVELS = [[int(2 ** i)] for i in np.arange(9.0, 12.5, 1.0)]\n",
    "AREAS = [\"baden-wuerttemberg\"]\n",
    "print(MLP_METHODS, \"with\", MLP_LEVELS)"
   ]
  },
  {
   "cell_type": "code",
   "execution_count": null,
   "id": "shared-absence",
   "metadata": {},
   "outputs": [],
   "source": [
    "# OUTPUT = \"bicycle\"\n",
    "# EVAL_DIR = \"/home/felix/todo/algohol/bicycle\"\n",
    "# MLP_METHODS = [\"merge\"]\n",
    "# MLP_LEVELS = [[int(2 ** i)] for i in np.arange(13.0, 15.5, 1.0)]\n",
    "# AREAS = [\"baden-wuerttemberg\"]\n",
    "# SKIP_PCH = True\n",
    "# print(MLP_METHODS, \"with\", MLP_LEVELS)"
   ]
  },
  {
   "cell_type": "code",
   "execution_count": null,
   "id": "compact-failure",
   "metadata": {},
   "outputs": [],
   "source": [
    "with open(EVAL_DIR + \"/log.json\") as file:\n",
    "    tmp = file.readlines()\n",
    "    log = pd.read_json(\" \".join(tmp), orient='index')"
   ]
  },
  {
   "cell_type": "code",
   "execution_count": null,
   "id": "interior-fellowship",
   "metadata": {},
   "outputs": [],
   "source": [
    "# create command string to not match against list\n",
    "log['command_string'] = log['command'].agg(lambda x: ' '.join(map(str, x)))"
   ]
  },
  {
   "cell_type": "markdown",
   "id": "static-mexican",
   "metadata": {},
   "source": [
    "# plots"
   ]
  },
  {
   "cell_type": "code",
   "execution_count": null,
   "id": "homeless-bones",
   "metadata": {},
   "outputs": [],
   "source": [
    "fig, ax = plt.subplots()\n",
    "\n",
    "for method in MLP_METHODS:\n",
    "    x = list()\n",
    "    y = list()\n",
    "    for level in MLP_LEVELS:\n",
    "        lines = log[(log['command_string'].str.contains(\"prp_pre\")) & (log['command_string'].str.contains(method + \"-\" + \"_\".join(map(str, level)) + \".bin\"))]\n",
    "        if lines.shape[0] == 0:\n",
    "            continue\n",
    "        # take last line of execution\n",
    "        line = lines.iloc[-1]\n",
    "        runtime = line['time'].replace(\" seconds\", \"\")\n",
    "        x.append(level)\n",
    "        y.append(float(runtime))\n",
    "    ax.plot(x, y, color=plot_get(method))\n",
    "    ax.scatter(x, y, color=plot_get(method), label=mlp_title(method))\n",
    "    \n",
    "ax.set_xlabel(\"Partitions\")\n",
    "ax.set_ylabel(\"Preprocessing [sec]\")\n",
    "# ax.set_yscale('log')\n",
    "ax.legend(loc='upper right')\n",
    "fig.savefig(OUTPUT+ \"-pre-runtime.pgf\", bbox_inches=\"tight\")"
   ]
  },
  {
   "cell_type": "code",
   "execution_count": null,
   "id": "improved-reach",
   "metadata": {},
   "outputs": [],
   "source": [
    "fig, ax = plt.subplots()\n",
    "# fig, ax = plt.subplots(figsize=(4, 3))\n",
    "table = list()\n",
    "\n",
    "for area in AREAS:\n",
    "    for mlp in MLP_METHODS:\n",
    "        x = list()\n",
    "        y = list()\n",
    "        for level in MLP_LEVELS:\n",
    "            lines = log[(log['command_string'].str.contains(\"prp_pre\")) & (log['command_string'].str.contains(mlp + \"-\" + \"_\".join(map(str, level)) + \".bin\"))]\n",
    "            if lines.shape[0] == 0:\n",
    "                continue\n",
    "            # take last line of execution\n",
    "            line = lines.iloc[-1]\n",
    "            runtime = line['time'].replace(\" seconds\", \"\")\n",
    "            df_pch_csv = pd.read_csv(EVAL_DIR + \"/\" + area + \"-\" + mlp + \"-\" + \"_\".join(map(str, level)) + \".csv\")\n",
    "            contracted_nodes = sum(df_pch_csv.highest_diff.value_counts().loc[1:])\n",
    "            percentage = 1 - (contracted_nodes / len(df_pch_csv))\n",
    "            x.append(percentage * 100.0)\n",
    "            y.append(float(runtime))\n",
    "            current = {\"MLP\": mlp_title(mlp), \"_\".join(map(str, level)) + \"-Percentage\": \"{:0.2f} %\".format(percentage * 100.0), \"_\".join(map(str, level)) + \"-pre [min]\": int(sec_to_min(float(runtime)))}\n",
    "            table.append(current)\n",
    "        ax.plot(x, y, color=plot_get(mlp))\n",
    "        ax.scatter(x, y, color=plot_get(mlp), label=mlp_title(mlp))\n",
    "    \n",
    "ax.set_xlabel(\"Contracted nodes [\\%]\")\n",
    "ax.set_ylabel(\"Preprocessing [sec]\")\n",
    "# ax.set_yscale('log')\n",
    "# plt.ticklabel_format(style='sci', axis='y', scilimits=(0,0))\n",
    "ax.legend(loc='upper left')\n",
    "fig.savefig(OUTPUT + \"-pre-percentage-runtime.pgf\", bbox_inches=\"tight\")"
   ]
  },
  {
   "cell_type": "code",
   "execution_count": null,
   "id": "accepted-confidence",
   "metadata": {},
   "outputs": [],
   "source": [
    "df_table = pd.DataFrame(table)\n",
    "assert((df_table.groupby([\"MLP\"]).count().all() == 1).iloc[0])\n",
    "df_table = df_table.groupby([\"MLP\"], sort = False).first()\n",
    "latex = df_table.to_latex(float_format=\"{0:.0f}\".format)\n",
    "df_table"
   ]
  },
  {
   "cell_type": "code",
   "execution_count": null,
   "id": "encouraging-furniture",
   "metadata": {},
   "outputs": [],
   "source": [
    "# fixup ugly latex code to have single line header\n",
    "latex_list = latex.splitlines()\n",
    "\n",
    "columns = latex_list[2].split(\"&\")\n",
    "indices = latex_list[3].split(\"&\")\n",
    "\n",
    "latex_list[2] = \"\"\n",
    "for level in MLP_LEVELS:\n",
    "    latex_list[2] += \"& \\multicolumn{2}{c|}{\" + \"_\".join(map(str, level)) + \"} \"\n",
    "latex_list[2] += \" \\\\\\\\\"\n",
    "# remove last pipe from \"c\"\n",
    "latex_list[2] = \"c\".join(latex_list[2].rsplit(\"c|\", 1))\n",
    "\n",
    "latex_list[3] = \"&\".join(indices[:1] + columns[1:])\n",
    "\n",
    "for level in MLP_LEVELS:\n",
    "    latex_list[3] = latex_list[3].replace(\"_\".join(map(str, level)) + \"-Percentage\", \"contract\").replace(\"_\".join(map(str, level)) + \"-pre [min]\", \"[min]\")\n",
    "\n",
    "latex_list[0] = latex_list[0].replace('ll', 'l|l', 1)\n",
    "latex_list[0] = latex_list[0].replace('lr', 'rr|', len(MLP_LEVELS) - 1)\n",
    "latex_list[0] = latex_list[0].replace('lr', 'rr', 1)\n",
    "\n",
    "# latex_list.insert(len(latex_list)-6, '\\midrule')\n",
    "# latex_list.insert(len(latex_list)-5, '\\midrule')\n",
    "\n",
    "latex_new = '\\n'.join(latex_list)\n",
    "with open(OUTPUT + \"-pre.tex\", \"w\") as latex_file:\n",
    "    latex_file.writelines(latex_new)"
   ]
  },
  {
   "cell_type": "code",
   "execution_count": null,
   "id": "random-gender",
   "metadata": {},
   "outputs": [],
   "source": []
  }
 ],
 "metadata": {
  "kernelspec": {
   "display_name": "Python 3",
   "language": "python",
   "name": "python3"
  },
  "language_info": {
   "codemirror_mode": {
    "name": "ipython",
    "version": 3
   },
   "file_extension": ".py",
   "mimetype": "text/x-python",
   "name": "python",
   "nbconvert_exporter": "python",
   "pygments_lexer": "ipython3",
   "version": "3.8.11"
  }
 },
 "nbformat": 4,
 "nbformat_minor": 5
}
