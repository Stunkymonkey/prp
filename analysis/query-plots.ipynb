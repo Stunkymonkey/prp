{
 "cells": [
  {
   "cell_type": "code",
   "execution_count": null,
   "id": "white-lobby",
   "metadata": {},
   "outputs": [],
   "source": [
    "from helper import *\n",
    "\n",
    "import pandas as pd\n",
    "import numpy as np\n",
    "import os\n",
    "import csv\n",
    "import sys\n",
    "import matplotlib\n",
    "import matplotlib.pyplot as plt\n",
    "plt.rcParams['figure.figsize'] = [16, 8]\n",
    "# use LaTeX fonts in the plot\n",
    "matplotlib.use(\"pgf\")\n",
    "matplotlib.rcParams.update({\n",
    "    \"pgf.texsystem\": \"pdflatex\",\n",
    "    'font.family': 'serif',\n",
    "    'text.usetex': True,\n",
    "    'pgf.rcfonts': False,\n",
    "})\n",
    "%matplotlib inline"
   ]
  },
  {
   "cell_type": "code",
   "execution_count": null,
   "id": "found-oxide",
   "metadata": {},
   "outputs": [],
   "source": [
    "# simply put osm files into the data-dir (all will get evaluated)\n",
    "EVAL_DIR = \"/home/felix/todo/osm-tmp\"\n",
    "MLP_METHODS = [\"kmeans\", \"merge\", \"hop\"]\n",
    "# MLP_LEVELS = [[int(2 ** i)] for i in np.arange(8.0, 13.5, 0.5)]\n",
    "MLP_LEVELS = [[int(2 ** i)] for i in np.arange(8.0, 13.5, 1.0)]\n",
    "FAST_QUERY_METHODS = [\"crp\", \"pch\", \"prp\"]\n",
    "QUERY_METHODS = [\"normal\", \"bi\"] + FAST_QUERY_METHODS\n",
    "AREAS = [\"saarland\"]\n",
    "print(MLP_METHODS, \"with\", MLP_LEVELS)"
   ]
  },
  {
   "cell_type": "markdown",
   "id": "ordered-borough",
   "metadata": {},
   "source": [
    "# Time"
   ]
  },
  {
   "cell_type": "code",
   "execution_count": null,
   "id": "desirable-equilibrium",
   "metadata": {},
   "outputs": [],
   "source": [
    "df = pd.DataFrame()\n",
    "for area in AREAS:\n",
    "    for query in QUERY_METHODS:\n",
    "        for mlp in MLP_METHODS:\n",
    "            for partitions in MLP_LEVELS:\n",
    "                if query == \"normal\" or query == \"bi\":\n",
    "                    tmp = pd.read_json(\"/home/felix/todo/osm-tmp/\" + area + \"-\" + query + \"-time.json\")\n",
    "                else:\n",
    "                    tmp = pd.read_json(\"/home/felix/todo/osm-tmp/\" + area + \"-\" + mlp + \"-\" + \"_\".join(map(str, partitions)) + \"-\" + query + \"-time.json\")\n",
    "                tmp[\"Area\"] = area\n",
    "                tmp[\"Query\"] = query\n",
    "                tmp[\"Mlp\"] = mlp\n",
    "                tmp[\"Mlp_partitions\"] = \"_\".join(map(str, partitions))\n",
    "                df = df.append(tmp, ignore_index = True)"
   ]
  },
  {
   "cell_type": "code",
   "execution_count": null,
   "id": "raised-victorian",
   "metadata": {},
   "outputs": [],
   "source": [
    "data = list()\n",
    "labels = list()\n",
    "for area in AREAS:\n",
    "    for query in FAST_QUERY_METHODS:\n",
    "        for mlp in MLP_METHODS:\n",
    "            for partitions in MLP_LEVELS:\n",
    "                tmp = df[(df.Area == area) & (df.Query == query) & (df.Mlp == mlp) & (df.Mlp_partitions == \"_\".join(map(str, partitions)))]\n",
    "                data.append(tmp[\"time\"])\n",
    "                labels.append(query + \"-\" + area + \"-\" + \"_\".join(map(str, partitions)) + \"-\" + str(mlp))\n",
    "        \n",
    "fig, ax = plt.subplots()\n",
    "ax.boxplot(data, labels=labels)#, showmeans=True)\n",
    "plt.xticks(rotation=40, ha='right')\n",
    "fig.savefig(\"comparison.pgf\", bbox_inches=\"tight\")"
   ]
  },
  {
   "cell_type": "code",
   "execution_count": null,
   "id": "constant-tower",
   "metadata": {
    "scrolled": true
   },
   "outputs": [],
   "source": [
    "fig, ax = plt.subplots()\n",
    "speedups = list()\n",
    "for area in AREAS:\n",
    "    dijkstra = df[(df.Query == \"normal\") & (df.Area == area)][\"time\"].mean()\n",
    "    bidijkstra = df[(df.Query == \"bi\") & (df.Area == area)][\"time\"].mean()\n",
    "    for query in FAST_QUERY_METHODS:\n",
    "        for mlp in MLP_METHODS:\n",
    "            x = list()\n",
    "            y = list()\n",
    "            for partitions in MLP_LEVELS:\n",
    "                tmp = df[(df.Area == area) & (df.Query == query) & (df.Mlp == mlp) & (df.Mlp_partitions == \"_\".join(map(str, partitions)))]\n",
    "                x.append(partitions[0])\n",
    "                y.append(tmp[\"time\"].mean())\n",
    "                speedups.append({\"Query\": query, \"MLP\": mlp, \"_\".join(map(str, partitions)): dijkstra / tmp[\"time\"].mean()})\n",
    "            plt.plot(x, y, marker=plot_get(query), color=plot_get(mlp), label=query + \"-\" + mlp, alpha=0.7)\n",
    "plt.xlabel(\"MLP-Partition-Size\")\n",
    "plt.ylabel(\"Query-time\")\n",
    "plt.legend(loc='upper left')\n",
    "fig.savefig(\"single-level.pgf\", bbox_inches=\"tight\")"
   ]
  },
  {
   "cell_type": "code",
   "execution_count": null,
   "id": "billion-engine",
   "metadata": {},
   "outputs": [],
   "source": [
    "df_speedups = pd.DataFrame(speedups)\n",
    "df_speedups = df_speedups.groupby([\"Query\", \"MLP\"]).first()\n",
    "# df_speedups.reset_index(inplace=True)\n",
    "# df_speedups.to_latex('speedups.tex', float_format=\"{:0.1f}\".format, index=False)\n",
    "latex = df_speedups.to_latex(float_format=\"{:0.1f}\".format)\n",
    "df_speedups"
   ]
  },
  {
   "cell_type": "code",
   "execution_count": null,
   "id": "stuck-smooth",
   "metadata": {},
   "outputs": [],
   "source": [
    "# fixup ugly latex code to have single line header\n",
    "latex_list = latex.splitlines()\n",
    "\n",
    "latex_list[0] = latex_list[0].replace('ll', 'll|', 1)\n",
    "\n",
    "partitions = latex_list[2]\n",
    "headers = latex_list[3].split(\"&\")\n",
    "headers = [headers[0], headers[1], \" \\multicolumn{\" + str(len(headers) - 2) + \"}{c}{amount of partitions} \\\\\\\\\"]\n",
    "\n",
    "latex_list[3] = partitions\n",
    "latex_list[2] = \"&\".join(headers)\n",
    "\n",
    "latex_list.insert(len(latex_list)-8, '\\midrule')\n",
    "latex_list.insert(len(latex_list)-5, '\\midrule')\n",
    "latex_new = '\\n'.join(latex_list)\n",
    "with open(\"speedups.tex\", \"w\") as latex_file:\n",
    "    latex_file.writelines(latex_new)"
   ]
  },
  {
   "cell_type": "markdown",
   "id": "deluxe-treatment",
   "metadata": {},
   "source": [
    "# Count"
   ]
  },
  {
   "cell_type": "code",
   "execution_count": null,
   "id": "french-proportion",
   "metadata": {},
   "outputs": [],
   "source": [
    "\n",
    "df = pd.DataFrame()\n",
    "for area in AREAS:\n",
    "    for query in QUERY_METHODS:\n",
    "        for mlp in MLP_METHODS:\n",
    "            for partitions in MLP_LEVELS:\n",
    "                if query == \"normal\" or query == \"bi\":\n",
    "                    tmp = pd.read_json(\"/home/felix/todo/osm-tmp/\" + area + \"-\" + query + \"-count.json\")\n",
    "                else:\n",
    "                    tmp = pd.read_json(\"/home/felix/todo/osm-tmp/\" + area + \"-\" + mlp + \"-\" + \"_\".join(map(str, partitions)) + \"-\" + query + \"-count.json\")\n",
    "                tmp[\"Query\"] = query\n",
    "                tmp[\"Area\"] = area\n",
    "                tmp[\"Mlp\"] = mlp\n",
    "                tmp[\"Mlp_partitions\"] = \"_\".join(map(str, partitions))\n",
    "                df = df.append(tmp, ignore_index = True)"
   ]
  },
  {
   "cell_type": "code",
   "execution_count": null,
   "id": "received-stuart",
   "metadata": {},
   "outputs": [],
   "source": [
    "fig, ax = plt.subplots()\n",
    "for area in AREAS:\n",
    "    for query in FAST_QUERY_METHODS:\n",
    "        for mlp in MLP_METHODS:\n",
    "            x = list()\n",
    "            y = list()\n",
    "            for partitions in MLP_LEVELS:\n",
    "                tmp = df[(df.Area == area) & (df.Query == query) & (df.Mlp == mlp) & (df.Mlp_partitions == \"_\".join(map(str, partitions)))]\n",
    "                x.append(partitions[0])\n",
    "                y.append(tmp[\"heap_pops\"].mean())\n",
    "            plt.plot(x, y, marker=plot_get(query), color=plot_get(mlp), label=query + \"-\" + mlp, alpha=0.7)\n",
    "\n",
    "plt.xlabel(\"MLP-Partition-Size\")\n",
    "plt.ylabel(\"heap-pops\")\n",
    "plt.legend(loc='upper left')\n",
    "fig.savefig(\"query-heap_pops.pgf\", bbox_inches=\"tight\")"
   ]
  },
  {
   "cell_type": "code",
   "execution_count": null,
   "id": "consecutive-crown",
   "metadata": {},
   "outputs": [],
   "source": [
    "fig, ax = plt.subplots()\n",
    "for area in AREAS:\n",
    "    for query in FAST_QUERY_METHODS:\n",
    "        for mlp in MLP_METHODS:\n",
    "            x = list()\n",
    "            y = list()\n",
    "            for partitions in MLP_LEVELS:\n",
    "                tmp = df[(df.Area == area) & (df.Query == query) & (df.Mlp == mlp) & (df.Mlp_partitions == \"_\".join(map(str, partitions)))]\n",
    "                x.append(partitions[0])\n",
    "                y.append(tmp[\"relaxed_edges\"].mean())\n",
    "            plt.plot(x, y, marker=plot_get(query), color=plot_get(mlp), label=query + \"-\" + mlp, alpha=0.7)\n",
    "\n",
    "plt.xlabel(\"MLP-Partition-Size\")\n",
    "plt.ylabel(\"relaxed-edges\")\n",
    "plt.legend(loc='upper left')\n",
    "fig.savefig(\"query-relaxed_edges.pgf\", bbox_inches=\"tight\")"
   ]
  },
  {
   "cell_type": "code",
   "execution_count": null,
   "id": "contained-mountain",
   "metadata": {},
   "outputs": [],
   "source": []
  }
 ],
 "metadata": {
  "kernelspec": {
   "display_name": "Python 3",
   "language": "python",
   "name": "python3"
  },
  "language_info": {
   "codemirror_mode": {
    "name": "ipython",
    "version": 3
   },
   "file_extension": ".py",
   "mimetype": "text/x-python",
   "name": "python",
   "nbconvert_exporter": "python",
   "pygments_lexer": "ipython3",
   "version": "3.8.9"
  }
 },
 "nbformat": 4,
 "nbformat_minor": 5
}
